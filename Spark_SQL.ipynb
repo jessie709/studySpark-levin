{
 "cells": [
  {
   "cell_type": "markdown",
   "metadata": {},
   "source": [
    "# Getting Started\n",
    "\n",
    "## Creating DataFrames"
   ]
  },
  {
   "cell_type": "code",
   "execution_count": 5,
   "metadata": {},
   "outputs": [
    {
     "name": "stdout",
     "output_type": "stream",
     "text": [
      "+---+------+----------+------+-------+\n",
      "|age|gender|occupation|userID|zipcode|\n",
      "+---+------+----------+------+-------+\n",
      "|  1|     F|        10|     1|  48067|\n",
      "| 56|     M|        16|     2|  70072|\n",
      "| 25|     M|        15|     3|  55117|\n",
      "| 45|     M|         7|     4|  02460|\n",
      "| 25|     M|        20|     5|  55455|\n",
      "| 50|     F|         9|     6|  55117|\n",
      "| 35|     M|         1|     7|  06810|\n",
      "| 25|     M|        12|     8|  11413|\n",
      "| 25|     M|        17|     9|  61614|\n",
      "| 35|     F|         1|    10|  95370|\n",
      "| 25|     F|         1|    11|  04093|\n",
      "| 25|     M|        12|    12|  32793|\n",
      "| 45|     M|         1|    13|  93304|\n",
      "| 35|     M|         0|    14|  60126|\n",
      "| 25|     M|         7|    15|  22903|\n",
      "| 35|     F|         0|    16|  20670|\n",
      "| 50|     M|         1|    17|  95350|\n",
      "| 18|     F|         3|    18|  95825|\n",
      "|  1|     M|        10|    19|  48073|\n",
      "| 25|     M|        14|    20|  55113|\n",
      "+---+------+----------+------+-------+\n",
      "only showing top 20 rows\n",
      "\n"
     ]
    }
   ],
   "source": [
    "# set filename(in hdfs)\n",
    "userJSONFileName = \"hdfs://hadoop:9000/data/ml-1m/users.json\"\n",
    "# read json file\n",
    "df = spark.read.json(userJSONFileName)\n",
    "# Displays the content of the DataFrame to stdout\n",
    "df.show()"
   ]
  },
  {
   "cell_type": "markdown",
   "metadata": {},
   "source": [
    "## Untyped Dataset Operations (aka DataFrame Operations)"
   ]
  },
  {
   "cell_type": "code",
   "execution_count": 6,
   "metadata": {},
   "outputs": [
    {
     "name": "stdout",
     "output_type": "stream",
     "text": [
      "root\n",
      " |-- age: long (nullable = true)\n",
      " |-- gender: string (nullable = true)\n",
      " |-- occupation: string (nullable = true)\n",
      " |-- userID: long (nullable = true)\n",
      " |-- zipcode: string (nullable = true)\n",
      "\n"
     ]
    }
   ],
   "source": [
    "# Print the schema in a tree format\n",
    "df.printSchema()"
   ]
  }
 ],
 "metadata": {
  "kernelspec": {
   "display_name": "Python 3",
   "language": "python",
   "name": "python3"
  },
  "language_info": {
   "codemirror_mode": {
    "name": "ipython",
    "version": 3
   },
   "file_extension": ".py",
   "mimetype": "text/x-python",
   "name": "python",
   "nbconvert_exporter": "python",
   "pygments_lexer": "ipython3",
   "version": "3.7.3"
  }
 },
 "nbformat": 4,
 "nbformat_minor": 2
}
